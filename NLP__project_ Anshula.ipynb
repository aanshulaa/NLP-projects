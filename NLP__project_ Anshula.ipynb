{
  "cells": [
    {
      "cell_type": "markdown",
      "id": "05d99167",
      "metadata": {
        "id": "05d99167"
      },
      "source": [
        "# ENHANCING E-COMMERCE USING AN ADVANCED SEARCH ENGINE AND RECOMMENDATION SYSTEM"
      ]
    },
    {
      "cell_type": "code",
      "execution_count": null,
      "id": "f1604c80",
      "metadata": {
        "id": "f1604c80"
      },
      "outputs": [],
      "source": [
        "#Let’s import all the libraries required\n",
        "#Data Manipulation\n",
        "import pandas as pd\n",
        "import numpy as np\n",
        "\n",
        "# Visualization\n",
        "import matplotlib.pyplot as plt\n",
        "import seaborn as sns"
      ]
    },
    {
      "cell_type": "code",
      "execution_count": null,
      "id": "48c0f022",
      "metadata": {
        "id": "48c0f022"
      },
      "outputs": [],
      "source": [
        "#NLP for text pre-processing\n",
        "import nltk\n",
        "import scipy\n",
        "import re\n",
        "from scipy import spatial\n",
        "from nltk.tokenize.toktok import ToktokTokenizer\n",
        "from nltk.corpus import stopwords\n",
        "from nltk.tokenize import sent_tokenize, word_tokenize\n",
        "from nltk.stem import PorterStemmer\n",
        "tokenizer = ToktokTokenizer()"
      ]
    },
    {
      "cell_type": "code",
      "execution_count": null,
      "id": "4977ec4e",
      "metadata": {
        "id": "4977ec4e"
      },
      "outputs": [],
      "source": [
        "# other libraries\n",
        "import gensim\n",
        "from gensim.models import Word2Vec\n",
        "import itertools\n",
        "from sklearn.feature_extraction.text import TfidfVectorizer\n",
        "from sklearn.decomposition import PCA"
      ]
    },
    {
      "cell_type": "code",
      "execution_count": null,
      "id": "502dd454",
      "metadata": {
        "id": "502dd454"
      },
      "outputs": [],
      "source": [
        "# Import linear_kernel\n",
        "from sklearn.metrics.pairwise import linear_kernel"
      ]
    },
    {
      "cell_type": "code",
      "execution_count": null,
      "id": "4cee05cb",
      "metadata": {
        "id": "4cee05cb"
      },
      "outputs": [],
      "source": [
        "# remove warnings\n",
        "import warnings\n",
        "warnings.filterwarnings(action = 'ignore')"
      ]
    },
    {
      "cell_type": "code",
      "execution_count": null,
      "id": "2d1ac740",
      "metadata": {
        "id": "2d1ac740",
        "outputId": "fa83cacd-86f0-4aca-f3bf-1043e48f70b8"
      },
      "outputs": [
        {
          "data": {
            "text/plain": [
              "(20000, 15)"
            ]
          },
          "execution_count": 6,
          "metadata": {},
          "output_type": "execute_result"
        }
      ],
      "source": [
        "data=pd.read_csv(\"flipkart_com-ecommerce_sample.csv\")\n",
        "data.head()\n",
        "data.shape"
      ]
    },
    {
      "cell_type": "code",
      "execution_count": null,
      "id": "6d9eca30",
      "metadata": {
        "id": "6d9eca30",
        "outputId": "c036aa99-491d-49e3-c03d-16280c315496"
      },
      "outputs": [
        {
          "name": "stdout",
          "output_type": "stream",
          "text": [
            "<class 'pandas.core.frame.DataFrame'>\n",
            "RangeIndex: 20000 entries, 0 to 19999\n",
            "Data columns (total 15 columns):\n",
            " #   Column                   Non-Null Count  Dtype  \n",
            "---  ------                   --------------  -----  \n",
            " 0   uniq_id                  20000 non-null  object \n",
            " 1   crawl_timestamp          20000 non-null  object \n",
            " 2   product_url              20000 non-null  object \n",
            " 3   product_name             20000 non-null  object \n",
            " 4   product_category_tree    20000 non-null  object \n",
            " 5   pid                      20000 non-null  object \n",
            " 6   retail_price             19922 non-null  float64\n",
            " 7   discounted_price         19922 non-null  float64\n",
            " 8   image                    19997 non-null  object \n",
            " 9   is_FK_Advantage_product  20000 non-null  bool   \n",
            " 10  description              19998 non-null  object \n",
            " 11  product_rating           20000 non-null  object \n",
            " 12  overall_rating           20000 non-null  object \n",
            " 13  brand                    14136 non-null  object \n",
            " 14  product_specifications   19986 non-null  object \n",
            "dtypes: bool(1), float64(2), object(12)\n",
            "memory usage: 2.2+ MB\n"
          ]
        }
      ],
      "source": [
        "data.info()"
      ]
    },
    {
      "cell_type": "markdown",
      "id": "e877eb06",
      "metadata": {
        "id": "e877eb06"
      },
      "source": [
        "Here are the observations.\n",
        "• The data set has a total of 15 columns and 20,000 observations.\n",
        "• is_FK_Advantage_product is a boolean, the retail_price and discounted_price columns are numerical, and the remaining are categorical."
      ]
    },
    {
      "cell_type": "code",
      "execution_count": null,
      "id": "6fcb7525",
      "metadata": {
        "id": "6fcb7525"
      },
      "outputs": [],
      "source": [
        "data['length']=data['description'].str.len()"
      ]
    },
    {
      "cell_type": "code",
      "execution_count": null,
      "id": "81f78ce3",
      "metadata": {
        "id": "81f78ce3"
      },
      "outputs": [],
      "source": [
        "data['no_of_words'] = data.description.apply(lambda x : len(str(x).split()))"
      ]
    },
    {
      "cell_type": "code",
      "execution_count": null,
      "id": "9532d263",
      "metadata": {
        "id": "9532d263"
      },
      "outputs": [],
      "source": [
        "bins=[0,50,75, np.inf]\n",
        "data['bins']=pd.cut(data.no_of_words, bins=[0,100,300,500,800, np.inf],\n",
        "                    labels=['0-100', '100-200', '200-500','500-800' ,'>800'])\n"
      ]
    },
    {
      "cell_type": "code",
      "execution_count": null,
      "id": "c2ed9042",
      "metadata": {
        "id": "c2ed9042"
      },
      "outputs": [],
      "source": [
        "words_distribution = data.groupby('bins').size().reset_index(). rename(columns={0:'word_counts'})"
      ]
    },
    {
      "cell_type": "code",
      "execution_count": null,
      "id": "358b588b",
      "metadata": {
        "id": "358b588b",
        "outputId": "8763833a-346e-4164-a5bb-2f2888a1548a"
      },
      "outputs": [
        {
          "data": {
            "text/plain": [
              "Text(0.5, 1.0, 'Word distribution per bin')"
            ]
          },
          "execution_count": 12,
          "metadata": {},
          "output_type": "execute_result"
        },
        {
          "data": {
            "image/png": "[encoded data removed]",
            "text/plain": [
              "<Figure size 640x480 with 1 Axes>"
            ]
          },
          "metadata": {},
          "output_type": "display_data"
        }
      ],
      "source": [
        "sns.barplot(x='bins', y='word_counts', data=words_distribution).set_title (\"Word distribution per bin\")"
      ]
    },
    {
      "cell_type": "markdown",
      "id": "e011c94b",
      "metadata": {
        "id": "e011c94b"
      },
      "source": [
        "Shows that most descriptions have less than 100 words and 20% have 100 to 200 words."
      ]
    },
    {
      "cell_type": "markdown",
      "id": "022ac536",
      "metadata": {
        "id": "022ac536"
      },
      "source": [
        "Data Preprocessing\n",
        "Data preprocessing includes data cleaning, preparation, transformation, and dimensionality reduction, which convert the raw data into a form that is suitable for further processing."
      ]
    },
    {
      "cell_type": "code",
      "execution_count": null,
      "id": "3a4f4627",
      "metadata": {
        "id": "3a4f4627"
      },
      "outputs": [],
      "source": [
        "# Number of missing values in each column\n",
        "missing = pd.DataFrame(data.isnull().sum()).rename(columns = {0:'missing'})"
      ]
    },
    {
      "cell_type": "code",
      "execution_count": null,
      "id": "eff3dffd",
      "metadata": {
        "id": "eff3dffd"
      },
      "outputs": [],
      "source": [
        "# Create a percentage of missing values\n",
        "missing['percent'] = missing['missing'] / len(data)"
      ]
    },
    {
      "cell_type": "code",
      "execution_count": null,
      "id": "88ad508b",
      "metadata": {
        "id": "88ad508b",
        "outputId": "00020c46-f227-4dbd-86a7-bf6a0976d97f"
      },
      "outputs": [
        {
          "data": {
            "text/html": [
              "<div>\n",
              "<style scoped>\n",
              "    .dataframe tbody tr th:only-of-type {\n",
              "        vertical-align: middle;\n",
              "    }\n",
              "\n",
              "    .dataframe tbody tr th {\n",
              "        vertical-align: top;\n",
              "    }\n",
              "\n",
              "    .dataframe thead th {\n",
              "        text-align: right;\n",
              "    }\n",
              "</style>\n",
              "<table border=\"1\" class=\"dataframe\">\n",
              "  <thead>\n",
              "    <tr style=\"text-align: right;\">\n",
              "      <th></th>\n",
              "      <th>missing</th>\n",
              "      <th>percent</th>\n",
              "    </tr>\n",
              "  </thead>\n",
              "  <tbody>\n",
              "    <tr>\n",
              "      <th>brand</th>\n",
              "      <td>5864</td>\n",
              "      <td>0.29320</td>\n",
              "    </tr>\n",
              "    <tr>\n",
              "      <th>retail_price</th>\n",
              "      <td>78</td>\n",
              "      <td>0.00390</td>\n",
              "    </tr>\n",
              "    <tr>\n",
              "      <th>discounted_price</th>\n",
              "      <td>78</td>\n",
              "      <td>0.00390</td>\n",
              "    </tr>\n",
              "    <tr>\n",
              "      <th>product_specifications</th>\n",
              "      <td>14</td>\n",
              "      <td>0.00070</td>\n",
              "    </tr>\n",
              "    <tr>\n",
              "      <th>image</th>\n",
              "      <td>3</td>\n",
              "      <td>0.00015</td>\n",
              "    </tr>\n",
              "    <tr>\n",
              "      <th>length</th>\n",
              "      <td>2</td>\n",
              "      <td>0.00010</td>\n",
              "    </tr>\n",
              "    <tr>\n",
              "      <th>description</th>\n",
              "      <td>2</td>\n",
              "      <td>0.00010</td>\n",
              "    </tr>\n",
              "    <tr>\n",
              "      <th>uniq_id</th>\n",
              "      <td>0</td>\n",
              "      <td>0.00000</td>\n",
              "    </tr>\n",
              "    <tr>\n",
              "      <th>product_rating</th>\n",
              "      <td>0</td>\n",
              "      <td>0.00000</td>\n",
              "    </tr>\n",
              "    <tr>\n",
              "      <th>no_of_words</th>\n",
              "      <td>0</td>\n",
              "      <td>0.00000</td>\n",
              "    </tr>\n",
              "    <tr>\n",
              "      <th>overall_rating</th>\n",
              "      <td>0</td>\n",
              "      <td>0.00000</td>\n",
              "    </tr>\n",
              "    <tr>\n",
              "      <th>is_FK_Advantage_product</th>\n",
              "      <td>0</td>\n",
              "      <td>0.00000</td>\n",
              "    </tr>\n",
              "    <tr>\n",
              "      <th>crawl_timestamp</th>\n",
              "      <td>0</td>\n",
              "      <td>0.00000</td>\n",
              "    </tr>\n",
              "    <tr>\n",
              "      <th>pid</th>\n",
              "      <td>0</td>\n",
              "      <td>0.00000</td>\n",
              "    </tr>\n",
              "    <tr>\n",
              "      <th>product_category_tree</th>\n",
              "      <td>0</td>\n",
              "      <td>0.00000</td>\n",
              "    </tr>\n",
              "    <tr>\n",
              "      <th>product_name</th>\n",
              "      <td>0</td>\n",
              "      <td>0.00000</td>\n",
              "    </tr>\n",
              "    <tr>\n",
              "      <th>product_url</th>\n",
              "      <td>0</td>\n",
              "      <td>0.00000</td>\n",
              "    </tr>\n",
              "    <tr>\n",
              "      <th>bins</th>\n",
              "      <td>0</td>\n",
              "      <td>0.00000</td>\n",
              "    </tr>\n",
              "  </tbody>\n",
              "</table>\n",
              "</div>"
            ],
            "text/plain": [
              "                         missing  percent\n",
              "brand                       5864  0.29320\n",
              "retail_price                  78  0.00390\n",
              "discounted_price              78  0.00390\n",
              "product_specifications        14  0.00070\n",
              "image                          3  0.00015\n",
              "length                         2  0.00010\n",
              "description                    2  0.00010\n",
              "uniq_id                        0  0.00000\n",
              "product_rating                 0  0.00000\n",
              "no_of_words                    0  0.00000\n",
              "overall_rating                 0  0.00000\n",
              "is_FK_Advantage_product        0  0.00000\n",
              "crawl_timestamp                0  0.00000\n",
              "pid                            0  0.00000\n",
              "product_category_tree          0  0.00000\n",
              "product_name                   0  0.00000\n",
              "product_url                    0  0.00000\n",
              "bins                           0  0.00000"
            ]
          },
          "execution_count": 15,
          "metadata": {},
          "output_type": "execute_result"
        }
      ],
      "source": [
        "# sorting the values in desending order to see highest count on the top\n",
        "missing.sort_values('percent', ascending = False)"
      ]
    },
    {
      "cell_type": "markdown",
      "id": "a9bef7e6",
      "metadata": {
        "id": "a9bef7e6"
      },
      "source": [
        "shows that nearly 30% of the brand variables have missing values. Other variables have a negligible number of missing values."
      ]
    },
    {
      "cell_type": "markdown",
      "id": "adac1e44",
      "metadata": {
        "id": "adac1e44"
      },
      "source": [
        "Text  Preprocessing\n",
        "There is a lot of unwanted information present in the text data. Let’s clean it up.\n",
        "Text preprocessing tasks include\n",
        "• Converting the text data to lowercase\n",
        "• Removing/replacing the punctuations\n",
        "• Removing/replacing the numbers\n",
        "• Removing extra whitespaces\n",
        "• Removing stop words\n",
        "• Stemming and lemmatization"
      ]
    },
    {
      "cell_type": "code",
      "execution_count": null,
      "id": "0d9efa2f",
      "metadata": {
        "id": "0d9efa2f"
      },
      "outputs": [],
      "source": [
        "# Remove punctuation\n",
        "data['description'] = data['description'].str.replace(r'[^\\w\\d\\s]', ' ')\n",
        "# Replace whitespace between terms with a single space\n",
        "data['description'] = data['description'].str.replace(r'\\s+', ' ')\n",
        "# Remove leading and trailing whitespace\n",
        "data['description'] = data['description'].str.replace(r'^\\s+|\\s+?$', '')\n",
        "# converting to lower case\n",
        "data['description'] = data['description'].str.lower()"
      ]
    },
    {
      "cell_type": "code",
      "execution_count": null,
      "id": "5d2d0aa7",
      "metadata": {
        "id": "5d2d0aa7",
        "outputId": "fc032620-ce76-48d7-e72e-114e80f2e1d7"
      },
      "outputs": [
        {
          "data": {
            "text/plain": [
              "0    key features of alisha solid women s cycling s...\n",
              "1    fabhomedecor fabric double sofa bed finish col...\n",
              "2    key features of aw bellies sandals wedges heel...\n",
              "3    key features of alisha solid women s cycling s...\n",
              "4    specifications of sicons all purpose arnica do...\n",
              "Name: description, dtype: object"
            ]
          },
          "execution_count": 17,
          "metadata": {},
          "output_type": "execute_result"
        }
      ],
      "source": [
        "data['description'].head()"
      ]
    },
    {
      "cell_type": "code",
      "execution_count": null,
      "id": "e3ad63cc",
      "metadata": {
        "id": "e3ad63cc"
      },
      "outputs": [],
      "source": [
        "# Removing Stop words\n",
        "stop = stopwords.words('english')\n",
        "pattern = r'\\b(?:{})\\b'.format('|'.join(stop))\n",
        "data['description'] = data['description'].str.replace(pattern, '')"
      ]
    },
    {
      "cell_type": "code",
      "execution_count": null,
      "id": "07e64c74",
      "metadata": {
        "id": "07e64c74"
      },
      "outputs": [],
      "source": [
        "# Removing single characters\n",
        "data['description'] = data['description'].str.replace(r'\\s+', ' ')\n",
        "data['description'] = data['description'].apply(lambda x: \" \".join(x for x in str(x).split() if len(x)>1))"
      ]
    },
    {
      "cell_type": "code",
      "execution_count": null,
      "id": "bd3bcb1f",
      "metadata": {
        "id": "bd3bcb1f"
      },
      "outputs": [],
      "source": [
        "# Removing domain related stop words from description\n",
        "specific_stop_words = [ \"rs\",\"flipkart\",\"buy\",\"com\",\"free\",\"day\",\"cash\",\"re placement\",\"guarantee\",\n",
        "                       \"genuine\",\"key\",\"feature\",\"delivery\",\"products\",\"pro duct\",\"shipping\",\n",
        "                       \"online\",\"india\",\"shop\"]\n",
        "data['description'] = data['description'].apply(lambda x: \" \".join(x for x in str(x).split() if x not in specific_stop_words))"
      ]
    },
    {
      "cell_type": "code",
      "execution_count": null,
      "id": "40ea6ea1",
      "metadata": {
        "id": "40ea6ea1",
        "outputId": "bdbd2e13-be80-4c0c-b69a-c247f94daa5b"
      },
      "outputs": [
        {
          "data": {
            "text/plain": [
              "0    features alisha solid women cycling shorts cot...\n",
              "1    fabhomedecor fabric double sofa bed finish col...\n",
              "2    features aw bellies sandals wedges heel casual...\n",
              "3    features alisha solid women cycling shorts cot...\n",
              "4    specifications sicons purpose arnica dog shamp...\n",
              "Name: description, dtype: object"
            ]
          },
          "execution_count": 21,
          "metadata": {},
          "output_type": "execute_result"
        }
      ],
      "source": [
        "data['description'].head()"
      ]
    },
    {
      "cell_type": "code",
      "execution_count": null,
      "id": "64382549",
      "metadata": {
        "id": "64382549",
        "outputId": "2389a158-5bf1-44c7-8df4-c3d781bfbfb2"
      },
      "outputs": [
        {
          "data": {
            "image/png": "[encoded data removed]",
            "text/plain": [
              "<Figure size 640x480 with 1 Axes>"
            ]
          },
          "metadata": {},
          "output_type": "display_data"
        },
        {
          "name": "stdout",
          "output_type": "stream",
          "text": [
            "[('women', 10574), ('replacement', 7894), ('30', 7826), ('features', 7199), ('price', 6705), ('shirt', 5794), ('color', 5743), ('type', 5377), ('details', 5300), ('specifications', 5155)]\n"
          ]
        }
      ],
      "source": [
        "#Let’s also see what are the most occurred words in the corpus and understand the data better.\n",
        "#Top frequent words after removing domain related stop words\n",
        "a = data['description'].str.cat(sep=' ')\n",
        "words = nltk.tokenize.word_tokenize(a)\n",
        "word_dist = nltk.FreqDist(words)\n",
        "word_dist.plot(10,cumulative=False)\n",
        "print(word_dist.most_common(10))"
      ]
    },
    {
      "cell_type": "markdown",
      "id": "267d567a",
      "metadata": {
        "id": "267d567a"
      },
      "source": [
        "Shows that data has words like women, price, and shirt appeared commonly in the data because there are a\n",
        "lot of fashion-related items and most of it is for women."
      ]
    },
    {
      "cell_type": "markdown",
      "id": "05f9076e",
      "metadata": {
        "id": "05f9076e"
      },
      "source": [
        "# Model Building\n",
        "There are two models we want to build.\n",
        "• A content-based recommendation system\n",
        "• A product search engine"
      ]
    },
    {
      "cell_type": "code",
      "execution_count": null,
      "id": "ba12096a",
      "metadata": {
        "id": "ba12096a",
        "outputId": "d511f09c-22cb-4f69-deac-d12652254312"
      },
      "outputs": [
        {
          "data": {
            "text/plain": [
              "(20000, 26165)"
            ]
          },
          "execution_count": 23,
          "metadata": {},
          "output_type": "execute_result"
        }
      ],
      "source": [
        "#Content-based Recommendation System\n",
        "#Now that you know about content-based recommender systems, let’s start implementing one.\n",
        "#For content-based systems, let’s use the TF-IDF approach.\n",
        "#text cleaning\n",
        "data['description'] = data['description'].fillna('')\n",
        "#define the vectorizer\n",
        "T_vec =  TfidfVectorizer(stop_words='english')\n",
        "# get the vectors\n",
        "T_vec_matrix = T_vec.fit_transform(data['description'])\n",
        "#shape\n",
        "T_vec_matrix.shape"
      ]
    },
    {
      "cell_type": "markdown",
      "id": "9d9298d0",
      "metadata": {
        "id": "9d9298d0"
      },
      "source": [
        "There are 26,000 unique words in the description.\n",
        "Next, let’s calculate similarity scores for each combination and generate matrix. A cosine similarity is used in this project. We need to write a function that takes\n",
        "product descriptions as input and lists N most similar items/products.\n",
        "We also need to do reverse mapping of product names to their indices."
      ]
    },
    {
      "cell_type": "code",
      "execution_count": null,
      "id": "4767aae7",
      "metadata": {
        "id": "4767aae7",
        "outputId": "b7004c80-a9a3-4306-a4d2-6b00d5107f0c"
      },
      "outputs": [
        {
          "data": {
            "text/plain": [
              "product_name\n",
              "Alisha Solid Women's Cycling Shorts            0\n",
              "FabHomeDecor Fabric Double Sofa Bed            1\n",
              "AW Bellies                                     2\n",
              "Alisha Solid Women's Cycling Shorts            3\n",
              "Sicons All Purpose Arnica Dog Shampoo          4\n",
              "                                           ...  \n",
              "WallDesign Small Vinyl Sticker             19995\n",
              "Wallmantra Large Vinyl Stickers Sticker    19996\n",
              "Elite Collection Medium Acrylic Sticker    19997\n",
              "Elite Collection Medium Acrylic Sticker    19998\n",
              "Elite Collection Medium Acrylic Sticker    19999\n",
              "Length: 20000, dtype: int64"
            ]
          },
          "execution_count": 24,
          "metadata": {},
          "output_type": "execute_result"
        }
      ],
      "source": [
        "# Reversing the map of indices and product\n",
        "product_index = pd.Series(data.index, index=data['product_name']).drop_duplicates()\n",
        "product_index"
      ]
    },
    {
      "cell_type": "markdown",
      "id": "d8d75075",
      "metadata": {
        "id": "d8d75075"
      },
      "source": [
        "In the following steps, everything is wrapped under a single function to make testing easier.\n",
        "1. Obtain the index given the product.\n",
        "2. Obtain cosine similarity scores.\n",
        "3. Sort the scores.\n",
        "4. Get the top N results from the list.\n",
        "5. Output the product names"
      ]
    },
    {
      "cell_type": "code",
      "execution_count": null,
      "id": "951417ca",
      "metadata": {
        "id": "951417ca"
      },
      "outputs": [],
      "source": [
        "from typing import List"
      ]
    },
    {
      "cell_type": "code",
      "execution_count": null,
      "id": "c706cf42",
      "metadata": {
        "id": "c706cf42"
      },
      "outputs": [],
      "source": [
        "# Function that takes in product title as input and outputs the most similar product\n",
        "def predict_products(text):\n",
        "    #getting index\n",
        "    index = product_index[text]\n",
        "\n",
        "    #obtaining the pairwise similarity scores\n",
        "    score_matrix = linear_kernel(T_vec_matrix[index], T_vec_matrix)\n",
        "    matching_sc = list(enumerate(score_matrix[0]))\n",
        "    #sort the product based on the similarity scores\n",
        "    matching_sc = sorted(matching_sc, key = lambda x: x[1], reverse = True)\n",
        "\n",
        "    # Getting the scores of the 10 most similar product\n",
        "    matching_sc= matching_sc[1:10]\n",
        "    # Getting the product indices\n",
        "    product_indices = [i[0] for i in matching_sc]\n",
        "    # Show the similar products\n",
        "    return data['product_name'].iloc[product_indices]"
      ]
    },
    {
      "cell_type": "code",
      "execution_count": null,
      "id": "86b68ce6",
      "metadata": {
        "id": "86b68ce6",
        "outputId": "02928390-c98a-4e18-8e33-c5a2315d7bde"
      },
      "outputs": [
        {
          "name": "stdout",
          "output_type": "stream",
          "text": [
            "Enter a product name: Lee Parke Walking Shoes\n",
            "Similar products\n",
            "\n",
            "\n",
            "Lee Parke Running Shoes\n",
            "N Five Running Shoes\n",
            "WorldWearFootwear Running Shoes, Walking Shoes\n",
            "Knight Ace Kraasa Sports Running Shoes, Cycling Shoes, Walking Shoes\n",
            "Bootwale Walking Shoes\n",
            "AMCO Walking Shoes\n",
            "Next Player Walking Shoes\n",
            "ASIAN Walking Shoes\n",
            "reenak Running Shoes\n"
          ]
        }
      ],
      "source": [
        "recommended_product = predict_products(input(\"Enter a product name: \"))\n",
        "if recommended_product is not None:\n",
        "    print (\"Similar products\")\n",
        "    print(\"\\n\")\n",
        "    for product_name in recommended_product:\n",
        "        print (product_name)"
      ]
    },
    {
      "cell_type": "markdown",
      "id": "bd9cf56e",
      "metadata": {
        "id": "bd9cf56e"
      },
      "source": [
        "Observe the results. If a customer clicks Lee Parke Running Shoes, they get recommendations based on any other brand running shoes or Lee Parke’s any other products.\n",
        "• Lee Parke Walking Shoes is there because of the Lee Parke brand.\n",
        "• The rest of the recommendations are running shoes by a different\n",
        "brand."
      ]
    },
    {
      "cell_type": "markdown",
      "id": "89605de3",
      "metadata": {
        "id": "89605de3"
      },
      "source": [
        "# Product Search Engine"
      ]
    },
    {
      "cell_type": "markdown",
      "id": "3626a55d",
      "metadata": {
        "id": "3626a55d"
      },
      "source": [
        "Let’s use the pretrained word2vec model on the news data set by Google.\n",
        "The trained model can be imported, and vectors can be obtained for each word.\n",
        "Then, any of the similarity measures can be leveraged to rank the results."
      ]
    },
    {
      "cell_type": "code",
      "execution_count": null,
      "id": "5f2bef45",
      "metadata": {
        "id": "5f2bef45"
      },
      "outputs": [],
      "source": [
        "#Creating list containing description of each product as sublist\n",
        "fin=[]\n",
        "for i in range(len(data['description'])):\n",
        "    temp=[]\n",
        "    temp.append(data['description'][i])\n",
        "    fin = fin + temp\n",
        "\n",
        "data1 = data[['product_name','description']]"
      ]
    },
    {
      "cell_type": "code",
      "execution_count": null,
      "id": "29a4e01c",
      "metadata": {
        "id": "29a4e01c"
      },
      "outputs": [],
      "source": [
        "from gensim import models\n",
        "from gensim.models import Word2Vec\n",
        "from gensim.models import KeyedVectors\n",
        "filename = 'GoogleNews-vectors-negative300.bin'\n",
        "model = KeyedVectors.load_word2vec_format(filename, binary=True,\n",
        "limit=50000)"
      ]
    },
    {
      "cell_type": "code",
      "execution_count": null,
      "id": "b4ddfdf0",
      "metadata": {
        "id": "b4ddfdf0",
        "outputId": "8382ba43-56cf-4625-b60b-556c2fc7b63b"
      },
      "outputs": [
        {
          "name": "stdout",
          "output_type": "stream",
          "text": [
            "b'3000000 300\\n</s> \\x00\\x00\\x94:\\x00\\x00k\\xba\\x00\\x00\\xa79\\x00\\x00\\xc9:\\x00\\x00\\x91:\\x00\\x00\\xb8\\xba\\x00\\x00\\x00\\xb8\\x00\\x00\\xdc\\xb9\\x00\\x00\\x17\\xba\\x00\\x00\\x8d:\\x00\\x00\\x86\\xba\\x00\\x00\"\\xba\\x00\\x00F\\xba\\x00\\x00\\xb8:\\x00\\x00\\xd7\\xba\\x00\\x00&\\xba\\x00\\x00\\xd6:\\x00\\x00\\x84\\xba\\x00\\x00\\xa6\\xba\\x00\\x00+:\\x00\\x00\\xda'\n"
          ]
        }
      ],
      "source": [
        "file_path = 'GoogleNews-vectors-negative300.bin'\n",
        "\n",
        "# Open the binary file for reading in binary mode ('rb')\n",
        "with open(file_path, 'rb') as binary_file:\n",
        "    # Read the contents of the binary file\n",
        "    binary_data = binary_file.read()\n",
        "\n",
        "# Process or display the binary data as needed\n",
        "print(binary_data[:100])  # Print the first 100 bytes as an example\n"
      ]
    },
    {
      "cell_type": "code",
      "execution_count": null,
      "id": "1433ff5e",
      "metadata": {
        "id": "1433ff5e"
      },
      "outputs": [],
      "source": [
        "#Preprocessing\n",
        "def remove_stopwords(text, is_lower_case=False):\n",
        "    pattern = r'[^a-zA-z0-9\\s]'\n",
        "    text = re.sub(pattern, '', text[0])\n",
        "    tokens = nltk.word_tokenize(text)\n",
        "    tokens = [token.strip() for token in tokens]\n",
        "    if is_lower_case:\n",
        "        filtered_tokens = [token for token in tokens if token not in stop]\n",
        "    else:\n",
        "        filtered_tokens = [token for token in tokens if token.lower() not in stop]\n",
        "    filtered_text = ' '.join(filtered_tokens)\n",
        "    return filtered_text"
      ]
    },
    {
      "cell_type": "code",
      "execution_count": null,
      "id": "a9e954a9",
      "metadata": {
        "id": "a9e954a9"
      },
      "outputs": [],
      "source": [
        "import numpy as np\n",
        "import nltk\n",
        "import scipy\n",
        "import pandas as pd\n"
      ]
    },
    {
      "cell_type": "code",
      "execution_count": null,
      "id": "6461fd60",
      "metadata": {
        "id": "6461fd60"
      },
      "outputs": [],
      "source": [
        "# Obtain the embeddings, let's use \"300\"\n",
        "def get_embedding(word):\n",
        "    if word in model.key_to_index:\n",
        "        return model.get_vector(word)\n",
        "    else:\n",
        "        return np.zeros(300)\n"
      ]
    },
    {
      "cell_type": "code",
      "execution_count": null,
      "id": "0093c081",
      "metadata": {
        "id": "0093c081"
      },
      "outputs": [],
      "source": [
        "# Obtaining the average vector for all the documents\n",
        "out_dict = {}\n",
        "for sen in fin:\n",
        "    average_vector = (np.mean(np.array([get_embedding(x) for x in nltk.word_tokenize(remove_stopwords(sen))]), axis=0))\n",
        "    dict = { sen : (average_vector) }\n",
        "    out_dict.update(dict)"
      ]
    },
    {
      "cell_type": "markdown",
      "id": "461ae4e8",
      "metadata": {
        "id": "461ae4e8"
      },
      "source": [
        "For every document, let’s take the mean of all the words present in the document."
      ]
    },
    {
      "cell_type": "code",
      "execution_count": null,
      "id": "b168f201",
      "metadata": {
        "id": "b168f201"
      },
      "outputs": [],
      "source": [
        "import numpy as np\n",
        "import scipy.spatial.distance\n",
        "\n",
        "# Get the similarity between the query and documents\n",
        "def get_sim(query_embedding, average_vector_doc):\n",
        "    sim = 1 - scipy.spatial.distance.cosine(np.ravel(query_embedding), np.ravel(average_vector_doc))\n",
        "    return sim\n"
      ]
    },
    {
      "cell_type": "code",
      "execution_count": null,
      "id": "48d7da76",
      "metadata": {
        "id": "48d7da76"
      },
      "outputs": [],
      "source": [
        "# Rank all the documents based on the similarity\n",
        "def Ranked_documents(query):\n",
        "    global rank\n",
        "    query_words =  (np.mean(np.array([get_embedding(x) for x in nltk.word_tokenize(query.lower())],dtype=float), axis=0))\n",
        "    rank = []\n",
        "    for k,v in out_dict.items():\n",
        "        rank.append((k, get_sim(query_words, v)))\n",
        "    rank = sorted(rank,key=lambda t: t[1], reverse=True)\n",
        "    dd =pd.DataFrame(rank,columns=['Desc','score'])\n",
        "    rankfin = pd.merge(data1,dd,left_on='description',right_on='Desc')\n",
        "    rankfin = rankfin[['product_name','description','score']]\n",
        "    print('Ranked Documents :')\n",
        "    return rankfin"
      ]
    },
    {
      "cell_type": "code",
      "execution_count": null,
      "id": "f8fca33d",
      "metadata": {
        "id": "f8fca33d",
        "outputId": "8399f6e9-b041-4278-b136-14a74d818897"
      },
      "outputs": [
        {
          "name": "stdout",
          "output_type": "stream",
          "text": [
            "What would you like to search?: bag\n",
            "Ranked Documents :\n"
          ]
        },
        {
          "data": {
            "text/html": [
              "<div>\n",
              "<style scoped>\n",
              "    .dataframe tbody tr th:only-of-type {\n",
              "        vertical-align: middle;\n",
              "    }\n",
              "\n",
              "    .dataframe tbody tr th {\n",
              "        vertical-align: top;\n",
              "    }\n",
              "\n",
              "    .dataframe thead th {\n",
              "        text-align: right;\n",
              "    }\n",
              "</style>\n",
              "<table border=\"1\" class=\"dataframe\">\n",
              "  <thead>\n",
              "    <tr style=\"text-align: right;\">\n",
              "      <th></th>\n",
              "      <th>product_name</th>\n",
              "      <th>description</th>\n",
              "      <th>score</th>\n",
              "    </tr>\n",
              "  </thead>\n",
              "  <tbody>\n",
              "    <tr>\n",
              "      <th>0</th>\n",
              "      <td>Alisha Solid Women's Cycling Shorts</td>\n",
              "      <td>features alisha solid women cycling shorts cot...</td>\n",
              "      <td>0.107118</td>\n",
              "    </tr>\n",
              "    <tr>\n",
              "      <th>1</th>\n",
              "      <td>FabHomeDecor Fabric Double Sofa Bed</td>\n",
              "      <td>fabhomedecor fabric double sofa bed finish col...</td>\n",
              "      <td>0.107118</td>\n",
              "    </tr>\n",
              "    <tr>\n",
              "      <th>2</th>\n",
              "      <td>AW Bellies</td>\n",
              "      <td>features aw bellies sandals wedges heel casual...</td>\n",
              "      <td>0.107118</td>\n",
              "    </tr>\n",
              "    <tr>\n",
              "      <th>3</th>\n",
              "      <td>Alisha Solid Women's Cycling Shorts</td>\n",
              "      <td>features alisha solid women cycling shorts cot...</td>\n",
              "      <td>0.107118</td>\n",
              "    </tr>\n",
              "    <tr>\n",
              "      <th>4</th>\n",
              "      <td>Sicons All Purpose Arnica Dog Shampoo</td>\n",
              "      <td>specifications sicons purpose arnica dog shamp...</td>\n",
              "      <td>1.000000</td>\n",
              "    </tr>\n",
              "    <tr>\n",
              "      <th>...</th>\n",
              "      <td>...</td>\n",
              "      <td>...</td>\n",
              "      <td>...</td>\n",
              "    </tr>\n",
              "    <tr>\n",
              "      <th>19995</th>\n",
              "      <td>Wallmantra Large Vinyl Stickers Sticker</td>\n",
              "      <td>wallmantra large vinyl stickers sticker 1369 w...</td>\n",
              "      <td>0.113536</td>\n",
              "    </tr>\n",
              "    <tr>\n",
              "      <th>19996</th>\n",
              "      <td>Wallmantra Extra Large Vinyl Stickers Sticker</td>\n",
              "      <td>wallmantra extra large vinyl stickers sticker ...</td>\n",
              "      <td>0.113536</td>\n",
              "    </tr>\n",
              "    <tr>\n",
              "      <th>19997</th>\n",
              "      <td>Wallmantra Extra Large Vinyl Stickers Sticker</td>\n",
              "      <td>wallmantra extra large vinyl stickers sticker ...</td>\n",
              "      <td>0.113536</td>\n",
              "    </tr>\n",
              "    <tr>\n",
              "      <th>19998</th>\n",
              "      <td>Wallmantra Extra Large Vinyl Stickers Sticker</td>\n",
              "      <td>wallmantra extra large vinyl stickers sticker ...</td>\n",
              "      <td>0.113536</td>\n",
              "    </tr>\n",
              "    <tr>\n",
              "      <th>19999</th>\n",
              "      <td>Uberlyfe Extra Large Vinyl Sticker</td>\n",
              "      <td>uberlyfe extra large vinyl sticker pack price ...</td>\n",
              "      <td>0.098476</td>\n",
              "    </tr>\n",
              "  </tbody>\n",
              "</table>\n",
              "<p>20000 rows × 3 columns</p>\n",
              "</div>"
            ],
            "text/plain": [
              "                                        product_name  \\\n",
              "0                Alisha Solid Women's Cycling Shorts   \n",
              "1                FabHomeDecor Fabric Double Sofa Bed   \n",
              "2                                         AW Bellies   \n",
              "3                Alisha Solid Women's Cycling Shorts   \n",
              "4              Sicons All Purpose Arnica Dog Shampoo   \n",
              "...                                              ...   \n",
              "19995        Wallmantra Large Vinyl Stickers Sticker   \n",
              "19996  Wallmantra Extra Large Vinyl Stickers Sticker   \n",
              "19997  Wallmantra Extra Large Vinyl Stickers Sticker   \n",
              "19998  Wallmantra Extra Large Vinyl Stickers Sticker   \n",
              "19999             Uberlyfe Extra Large Vinyl Sticker   \n",
              "\n",
              "                                             description     score  \n",
              "0      features alisha solid women cycling shorts cot...  0.107118  \n",
              "1      fabhomedecor fabric double sofa bed finish col...  0.107118  \n",
              "2      features aw bellies sandals wedges heel casual...  0.107118  \n",
              "3      features alisha solid women cycling shorts cot...  0.107118  \n",
              "4      specifications sicons purpose arnica dog shamp...  1.000000  \n",
              "...                                                  ...       ...  \n",
              "19995  wallmantra large vinyl stickers sticker 1369 w...  0.113536  \n",
              "19996  wallmantra extra large vinyl stickers sticker ...  0.113536  \n",
              "19997  wallmantra extra large vinyl stickers sticker ...  0.113536  \n",
              "19998  wallmantra extra large vinyl stickers sticker ...  0.113536  \n",
              "19999  uberlyfe extra large vinyl sticker pack price ...  0.098476  \n",
              "\n",
              "[20000 rows x 3 columns]"
            ]
          },
          "execution_count": 38,
          "metadata": {},
          "output_type": "execute_result"
        }
      ],
      "source": [
        "# Call the IR function with a query\n",
        "query=input(\"What would you like to search?: \")\n",
        "Ranked_documents(query)"
      ]
    }
  ],
  "metadata": {
    "kernelspec": {
      "display_name": "Python 3 (ipykernel)",
      "language": "python",
      "name": "python3"
    },
    "language_info": {
      "codemirror_mode": {
        "name": "ipython",
        "version": 3
      },
      "file_extension": ".py",
      "mimetype": "text/x-python",
      "name": "python",
      "nbconvert_exporter": "python",
      "pygments_lexer": "ipython3",
      "version": "3.9.13"
    },
    "colab": {
      "provenance": []
    }
  },
  "nbformat": 4,
  "nbformat_minor": 5
}